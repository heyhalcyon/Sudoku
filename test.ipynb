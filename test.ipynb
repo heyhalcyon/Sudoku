{
 "cells": [
  {
   "cell_type": "code",
   "execution_count": 1,
   "metadata": {},
   "outputs": [],
   "source": [
    "from sudoku_solver import solver\n",
    "import pandas as pd\n",
    "import time\n",
    "import numpy as np"
   ]
  },
  {
   "cell_type": "code",
   "execution_count": 2,
   "metadata": {},
   "outputs": [],
   "source": [
    "small1 = pd.read_csv('input/small1.csv')\n",
    "small2 = pd.read_csv('input/small2.csv')\n",
    "large1 = pd.read_csv('input/large1.csv')\n",
    "large2 = pd.read_csv('input/large2.csv')"
   ]
  },
  {
   "cell_type": "markdown",
   "metadata": {},
   "source": [
    "### small 1"
   ]
  },
  {
   "cell_type": "code",
   "execution_count": 3,
   "metadata": {},
   "outputs": [
    {
     "name": "stdout",
     "output_type": "stream",
     "text": [
      "Aver Time:   0.39 secs. Success rate: 20 / 20 \n",
      "Aver Time:   0.38 secs. Success rate: 24 / 24 \n"
     ]
    }
   ],
   "source": [
    "corr_cnt = 0\n",
    "start = time.time()\n",
    "data = small1\n",
    "\n",
    "for i in range(data.shape[0]):\n",
    "    quiz = data[\"quizzes\"][i]\n",
    "    solu = data[\"solutions\"][i]\n",
    "    \n",
    "    \n",
    "    result = solver(quiz)\n",
    "\n",
    "    if np.linalg.norm( result - np.reshape([int(c) for c in solu], (9,9)), np.inf) >0:\n",
    "        pass\n",
    "    else:\n",
    "        corr_cnt += 1\n",
    "    \n",
    "    if (i+1) % 20 == 0:\n",
    "        end = time.time()\n",
    "        print(\"Aver Time: {t:6.2f} secs. Success rate: {corr} / {all} \".format(t=(end-start)/(i+1), corr=corr_cnt, all=i+1) )\n",
    "\n",
    "end = time.time()\n",
    "print(\"Aver Time: {t:6.2f} secs. Success rate: {corr} / {all} \".format(t=(end-start)/(i+1), corr=corr_cnt, all=i+1) )"
   ]
  },
  {
   "cell_type": "markdown",
   "metadata": {},
   "source": [
    "### small 2"
   ]
  },
  {
   "cell_type": "code",
   "execution_count": 4,
   "metadata": {},
   "outputs": [
    {
     "name": "stdout",
     "output_type": "stream",
     "text": [
      "Aver Time:   0.57 secs. Success rate: 19 / 20 \n",
      "Aver Time:   0.59 secs. Success rate: 38 / 40 \n",
      "Aver Time:   0.68 secs. Success rate: 56 / 60 \n",
      "Aver Time:   0.69 secs. Success rate: 75 / 80 \n",
      "Aver Time:   0.68 secs. Success rate: 94 / 100 \n",
      "Aver Time:   0.68 secs. Success rate: 112 / 120 \n",
      "Aver Time:   0.77 secs. Success rate: 128 / 140 \n",
      "Aver Time:   0.83 secs. Success rate: 146 / 160 \n",
      "Aver Time:   0.85 secs. Success rate: 164 / 180 \n",
      "Aver Time:   0.88 secs. Success rate: 182 / 200 \n",
      "Aver Time:   0.89 secs. Success rate: 201 / 220 \n",
      "Aver Time:   0.95 secs. Success rate: 217 / 240 \n",
      "Aver Time:   0.94 secs. Success rate: 235 / 260 \n",
      "Aver Time:   0.95 secs. Success rate: 252 / 280 \n",
      "Aver Time:   0.96 secs. Success rate: 270 / 300 \n",
      "Aver Time:   1.00 secs. Success rate: 284 / 320 \n",
      "Aver Time:   1.03 secs. Success rate: 300 / 340 \n",
      "Aver Time:   1.02 secs. Success rate: 318 / 360 \n",
      "Aver Time:   1.03 secs. Success rate: 332 / 380 \n",
      "Aver Time:   1.06 secs. Success rate: 346 / 400 \n",
      "Aver Time:   1.07 secs. Success rate: 363 / 420 \n",
      "Aver Time:   1.05 secs. Success rate: 382 / 440 \n",
      "Aver Time:   1.08 secs. Success rate: 396 / 460 \n",
      "Aver Time:   1.08 secs. Success rate: 415 / 480 \n",
      "Aver Time:   1.09 secs. Success rate: 430 / 500 \n",
      "Aver Time:   1.11 secs. Success rate: 442 / 520 \n",
      "Aver Time:   1.11 secs. Success rate: 461 / 540 \n",
      "Aver Time:   1.12 secs. Success rate: 476 / 560 \n",
      "Aver Time:   1.12 secs. Success rate: 491 / 580 \n",
      "Aver Time:   1.12 secs. Success rate: 507 / 600 \n",
      "Aver Time:   1.13 secs. Success rate: 523 / 620 \n",
      "Aver Time:   1.12 secs. Success rate: 540 / 640 \n",
      "Aver Time:   1.13 secs. Success rate: 555 / 660 \n",
      "Aver Time:   1.15 secs. Success rate: 569 / 680 \n",
      "Aver Time:   1.16 secs. Success rate: 582 / 700 \n",
      "Aver Time:   1.16 secs. Success rate: 598 / 720 \n",
      "Aver Time:   1.17 secs. Success rate: 612 / 740 \n",
      "Aver Time:   1.18 secs. Success rate: 629 / 760 \n",
      "Aver Time:   1.19 secs. Success rate: 641 / 780 \n",
      "Aver Time:   1.21 secs. Success rate: 654 / 800 \n",
      "Aver Time:   1.22 secs. Success rate: 669 / 820 \n",
      "Aver Time:   1.23 secs. Success rate: 684 / 840 \n",
      "Aver Time:   1.23 secs. Success rate: 700 / 860 \n",
      "Aver Time:   1.23 secs. Success rate: 717 / 880 \n",
      "Aver Time:   1.24 secs. Success rate: 731 / 900 \n",
      "Aver Time:   1.25 secs. Success rate: 746 / 920 \n",
      "Aver Time:   1.27 secs. Success rate: 761 / 940 \n",
      "Aver Time:   1.29 secs. Success rate: 775 / 960 \n",
      "Aver Time:   1.30 secs. Success rate: 790 / 980 \n",
      "Aver Time:   1.31 secs. Success rate: 805 / 1000 \n",
      "Aver Time:   1.31 secs. Success rate: 805 / 1000 \n"
     ]
    }
   ],
   "source": [
    "corr_cnt = 0\n",
    "start = time.time()\n",
    "data = small2\n",
    "random_seed = 42\n",
    "np.random.seed(random_seed)\n",
    "samples = np.random.choice(len(data), 1000)\n",
    "for i in range(len(samples)):\n",
    "    quiz = data[\"quizzes\"][i]\n",
    "    solu = data[\"solutions\"][i]\n",
    "    \n",
    "    \n",
    "    result = solver(quiz)\n",
    "\n",
    "    if np.linalg.norm( result - np.reshape([int(c) for c in solu], (9,9)), np.inf) >0:\n",
    "        pass\n",
    "    else:\n",
    "        corr_cnt += 1\n",
    "    \n",
    "    if (i+1) % 20 == 0:\n",
    "        end = time.time()\n",
    "        print(\"Aver Time: {t:6.2f} secs. Success rate: {corr} / {all} \".format(t=(end-start)/(i+1), corr=corr_cnt, all=i+1) )\n",
    "\n",
    "end = time.time()\n",
    "print(\"Aver Time: {t:6.2f} secs. Success rate: {corr} / {all} \".format(t=(end-start)/(i+1), corr=corr_cnt, all=i+1) )"
   ]
  },
  {
   "cell_type": "markdown",
   "metadata": {},
   "source": [
    "### large 1"
   ]
  },
  {
   "cell_type": "code",
   "execution_count": 5,
   "metadata": {},
   "outputs": [
    {
     "name": "stdout",
     "output_type": "stream",
     "text": [
      "Aver Time:   0.68 secs. Success rate: 19 / 20 \n",
      "Aver Time:   0.56 secs. Success rate: 39 / 40 \n",
      "Aver Time:   0.50 secs. Success rate: 59 / 60 \n",
      "Aver Time:   0.53 secs. Success rate: 78 / 80 \n",
      "Aver Time:   0.52 secs. Success rate: 98 / 100 \n",
      "Aver Time:   0.51 secs. Success rate: 118 / 120 \n",
      "Aver Time:   0.50 secs. Success rate: 138 / 140 \n",
      "Aver Time:   0.52 secs. Success rate: 157 / 160 \n",
      "Aver Time:   0.53 secs. Success rate: 176 / 180 \n",
      "Aver Time:   0.53 secs. Success rate: 196 / 200 \n",
      "Aver Time:   0.54 secs. Success rate: 214 / 220 \n",
      "Aver Time:   0.52 secs. Success rate: 234 / 240 \n",
      "Aver Time:   0.52 secs. Success rate: 253 / 260 \n",
      "Aver Time:   0.52 secs. Success rate: 272 / 280 \n",
      "Aver Time:   0.52 secs. Success rate: 291 / 300 \n",
      "Aver Time:   0.51 secs. Success rate: 311 / 320 \n",
      "Aver Time:   0.52 secs. Success rate: 330 / 340 \n",
      "Aver Time:   0.51 secs. Success rate: 350 / 360 \n",
      "Aver Time:   0.52 secs. Success rate: 369 / 380 \n",
      "Aver Time:   0.51 secs. Success rate: 389 / 400 \n",
      "Aver Time:   0.51 secs. Success rate: 409 / 420 \n",
      "Aver Time:   0.51 secs. Success rate: 428 / 440 \n",
      "Aver Time:   0.51 secs. Success rate: 448 / 460 \n",
      "Aver Time:   0.50 secs. Success rate: 468 / 480 \n",
      "Aver Time:   0.57 secs. Success rate: 477 / 500 \n",
      "Aver Time:   0.58 secs. Success rate: 494 / 520 \n",
      "Aver Time:   0.58 secs. Success rate: 513 / 540 \n",
      "Aver Time:   0.57 secs. Success rate: 532 / 560 \n",
      "Aver Time:   0.57 secs. Success rate: 552 / 580 \n",
      "Aver Time:   0.56 secs. Success rate: 572 / 600 \n",
      "Aver Time:   0.56 secs. Success rate: 592 / 620 \n",
      "Aver Time:   0.58 secs. Success rate: 609 / 640 \n",
      "Aver Time:   0.58 secs. Success rate: 628 / 660 \n",
      "Aver Time:   0.57 secs. Success rate: 648 / 680 \n",
      "Aver Time:   0.56 secs. Success rate: 668 / 700 \n",
      "Aver Time:   0.56 secs. Success rate: 688 / 720 \n",
      "Aver Time:   0.56 secs. Success rate: 707 / 740 \n",
      "Aver Time:   0.56 secs. Success rate: 727 / 760 \n",
      "Aver Time:   0.55 secs. Success rate: 747 / 780 \n",
      "Aver Time:   0.54 secs. Success rate: 767 / 800 \n",
      "Aver Time:   0.54 secs. Success rate: 787 / 820 \n",
      "Aver Time:   0.54 secs. Success rate: 806 / 840 \n",
      "Aver Time:   0.54 secs. Success rate: 825 / 860 \n",
      "Aver Time:   0.54 secs. Success rate: 844 / 880 \n",
      "Aver Time:   0.54 secs. Success rate: 863 / 900 \n",
      "Aver Time:   0.54 secs. Success rate: 883 / 920 \n",
      "Aver Time:   0.54 secs. Success rate: 903 / 940 \n",
      "Aver Time:   0.53 secs. Success rate: 923 / 960 \n",
      "Aver Time:   0.53 secs. Success rate: 943 / 980 \n",
      "Aver Time:   0.53 secs. Success rate: 963 / 1000 \n",
      "Aver Time:   0.53 secs. Success rate: 963 / 1000 \n"
     ]
    }
   ],
   "source": [
    "corr_cnt = 0\n",
    "start = time.time()\n",
    "data = large1\n",
    "random_seed = 42\n",
    "np.random.seed(random_seed)\n",
    "samples = np.random.choice(len(data), 1000)\n",
    "for i in range(len(samples)):\n",
    "    quiz = data[\"quizzes\"][i]\n",
    "    solu = data[\"solutions\"][i]\n",
    "    \n",
    "    \n",
    "    result = solver(quiz)\n",
    "\n",
    "    if np.linalg.norm( result - np.reshape([int(c) for c in solu], (9,9)), np.inf) >0:\n",
    "        pass\n",
    "    else:\n",
    "        corr_cnt += 1\n",
    "    \n",
    "    if (i+1) % 20 == 0:\n",
    "        end = time.time()\n",
    "        print(\"Aver Time: {t:6.2f} secs. Success rate: {corr} / {all} \".format(t=(end-start)/(i+1), corr=corr_cnt, all=i+1) )\n",
    "\n",
    "end = time.time()\n",
    "print(\"Aver Time: {t:6.2f} secs. Success rate: {corr} / {all} \".format(t=(end-start)/(i+1), corr=corr_cnt, all=i+1) )"
   ]
  },
  {
   "cell_type": "markdown",
   "metadata": {},
   "source": [
    "### large 2"
   ]
  },
  {
   "cell_type": "code",
   "execution_count": 6,
   "metadata": {},
   "outputs": [
    {
     "name": "stdout",
     "output_type": "stream",
     "text": [
      "Aver Time:   0.31 secs. Success rate: 20 / 20 \n",
      "Aver Time:   0.31 secs. Success rate: 40 / 40 \n",
      "Aver Time:   0.31 secs. Success rate: 60 / 60 \n",
      "Aver Time:   0.31 secs. Success rate: 80 / 80 \n",
      "Aver Time:   0.31 secs. Success rate: 100 / 100 \n",
      "Aver Time:   0.31 secs. Success rate: 120 / 120 \n",
      "Aver Time:   0.31 secs. Success rate: 140 / 140 \n",
      "Aver Time:   0.31 secs. Success rate: 160 / 160 \n",
      "Aver Time:   0.31 secs. Success rate: 180 / 180 \n",
      "Aver Time:   0.31 secs. Success rate: 200 / 200 \n",
      "Aver Time:   0.31 secs. Success rate: 220 / 220 \n",
      "Aver Time:   0.31 secs. Success rate: 240 / 240 \n",
      "Aver Time:   0.31 secs. Success rate: 260 / 260 \n",
      "Aver Time:   0.31 secs. Success rate: 280 / 280 \n",
      "Aver Time:   0.31 secs. Success rate: 300 / 300 \n",
      "Aver Time:   0.31 secs. Success rate: 320 / 320 \n",
      "Aver Time:   0.31 secs. Success rate: 340 / 340 \n",
      "Aver Time:   0.31 secs. Success rate: 360 / 360 \n",
      "Aver Time:   0.31 secs. Success rate: 380 / 380 \n",
      "Aver Time:   0.31 secs. Success rate: 400 / 400 \n",
      "Aver Time:   0.31 secs. Success rate: 420 / 420 \n",
      "Aver Time:   0.31 secs. Success rate: 440 / 440 \n",
      "Aver Time:   0.31 secs. Success rate: 460 / 460 \n",
      "Aver Time:   0.31 secs. Success rate: 480 / 480 \n",
      "Aver Time:   0.31 secs. Success rate: 500 / 500 \n",
      "Aver Time:   0.31 secs. Success rate: 520 / 520 \n",
      "Aver Time:   0.32 secs. Success rate: 540 / 540 \n",
      "Aver Time:   0.32 secs. Success rate: 560 / 560 \n",
      "Aver Time:   0.32 secs. Success rate: 580 / 580 \n",
      "Aver Time:   0.32 secs. Success rate: 600 / 600 \n",
      "Aver Time:   0.32 secs. Success rate: 620 / 620 \n",
      "Aver Time:   0.32 secs. Success rate: 640 / 640 \n",
      "Aver Time:   0.32 secs. Success rate: 660 / 660 \n",
      "Aver Time:   0.32 secs. Success rate: 680 / 680 \n",
      "Aver Time:   0.32 secs. Success rate: 700 / 700 \n",
      "Aver Time:   0.32 secs. Success rate: 720 / 720 \n",
      "Aver Time:   0.32 secs. Success rate: 740 / 740 \n",
      "Aver Time:   0.32 secs. Success rate: 760 / 760 \n",
      "Aver Time:   0.32 secs. Success rate: 780 / 780 \n",
      "Aver Time:   0.33 secs. Success rate: 800 / 800 \n",
      "Aver Time:   0.33 secs. Success rate: 820 / 820 \n",
      "Aver Time:   0.33 secs. Success rate: 840 / 840 \n",
      "Aver Time:   0.33 secs. Success rate: 860 / 860 \n",
      "Aver Time:   0.33 secs. Success rate: 880 / 880 \n",
      "Aver Time:   0.33 secs. Success rate: 900 / 900 \n",
      "Aver Time:   0.33 secs. Success rate: 920 / 920 \n",
      "Aver Time:   0.32 secs. Success rate: 940 / 940 \n",
      "Aver Time:   0.32 secs. Success rate: 960 / 960 \n",
      "Aver Time:   0.32 secs. Success rate: 980 / 980 \n",
      "Aver Time:   0.32 secs. Success rate: 1000 / 1000 \n",
      "Aver Time:   0.32 secs. Success rate: 1000 / 1000 \n"
     ]
    }
   ],
   "source": [
    "corr_cnt = 0\n",
    "start = time.time()\n",
    "data = large2\n",
    "random_seed = 42\n",
    "np.random.seed(random_seed)\n",
    "samples = np.random.choice(len(data), 1000)\n",
    "for i in range(len(samples)):\n",
    "    quiz = data[\"quizzes\"][i]\n",
    "    solu = data[\"solutions\"][i]\n",
    "    \n",
    "    \n",
    "    result = solver(quiz)\n",
    "\n",
    "    if np.linalg.norm( result - np.reshape([int(c) for c in solu], (9,9)), np.inf) >0:\n",
    "        pass\n",
    "    else:\n",
    "        corr_cnt += 1\n",
    "    \n",
    "    if (i+1) % 20 == 0:\n",
    "        end = time.time()\n",
    "        print(\"Aver Time: {t:6.2f} secs. Success rate: {corr} / {all} \".format(t=(end-start)/(i+1), corr=corr_cnt, all=i+1) )\n",
    "\n",
    "end = time.time()\n",
    "print(\"Aver Time: {t:6.2f} secs. Success rate: {corr} / {all} \".format(t=(end-start)/(i+1), corr=corr_cnt, all=i+1) )"
   ]
  }
 ],
 "metadata": {
  "kernelspec": {
   "display_name": "Python 3",
   "language": "python",
   "name": "python3"
  },
  "language_info": {
   "codemirror_mode": {
    "name": "ipython",
    "version": 3
   },
   "file_extension": ".py",
   "mimetype": "text/x-python",
   "name": "python",
   "nbconvert_exporter": "python",
   "pygments_lexer": "ipython3",
   "version": "3.7.1"
  },
  "toc": {
   "base_numbering": 1,
   "nav_menu": {},
   "number_sections": false,
   "sideBar": true,
   "skip_h1_title": false,
   "title_cell": "Table of Contents",
   "title_sidebar": "Contents",
   "toc_cell": false,
   "toc_position": {},
   "toc_section_display": true,
   "toc_window_display": true
  }
 },
 "nbformat": 4,
 "nbformat_minor": 2
}
