{
 "cells": [
  {
   "cell_type": "markdown",
   "metadata": {},
   "source": [
    "In this example kernel, we try to demonstrate the LP for the Sudoku game. To study the problem \n",
    "\n",
    "$$\\min_{X} \\|X\\|_{L^1} $$\n",
    "subject to equality constraint $AX = B$."
   ]
  },
  {
   "cell_type": "code",
   "execution_count": null,
   "metadata": {},
   "outputs": [],
   "source": [
    "import os\n",
    "print(os.listdir(\"../input\"))"
   ]
  },
  {
   "cell_type": "code",
   "execution_count": null,
   "metadata": {},
   "outputs": [],
   "source": [
    "import numpy as np # linear algebra\n",
    "import pandas as pd # data processing, CSV file I/O (e.g. pd.read_csv)\n",
    "import scipy.sparse as scs # sparse matrix construction \n",
    "import scipy.linalg as scl # linear algebra algorithms\n",
    "import scipy.optimize as sco # for minimization use\n",
    "import matplotlib.pylab as plt # for visualization\n",
    "\n",
    "def fixed_constraints(N=9):\n",
    "    rowC = np.zeros(N)\n",
    "    rowC[0] =1\n",
    "    rowR = np.zeros(N)\n",
    "    rowR[0] =1\n",
    "    row = scl.toeplitz(rowC, rowR)\n",
    "    ROW = np.kron(row, np.kron(np.ones((1,N)), np.eye(N)))\n",
    "    \n",
    "    colR = np.kron(np.ones((1,N)), rowC)\n",
    "    col  = scl.toeplitz(rowC, colR)\n",
    "    COL  = np.kron(col, np.eye(N))\n",
    "    \n",
    "    M = int(np.sqrt(N))\n",
    "    boxC = np.zeros(M)\n",
    "    boxC[0]=1\n",
    "    boxR = np.kron(np.ones((1, M)), boxC) \n",
    "    box = scl.toeplitz(boxC, boxR)\n",
    "    box = np.kron(np.eye(M), box)\n",
    "    BOX = np.kron(box, np.block([np.eye(N), np.eye(N) ,np.eye(N)]))\n",
    "    \n",
    "    cell = np.eye(N**2)\n",
    "    CELL = np.kron(cell, np.ones((1,N)))\n",
    "    \n",
    "    return scs.csr_matrix(np.block([[ROW],[COL],[BOX],[CELL]]))\n",
    "\n",
    "\n",
    "\n",
    "\n",
    "# For the constraint from clues, we extract the nonzeros from the quiz string.\n",
    "def clue_constraint(input_quiz, N=9):\n",
    "    m = np.reshape([int(c) for c in input_quiz], (N,N))\n",
    "    r, c = np.where(m.T)\n",
    "    v = np.array([m[c[d],r[d]] for d in range(len(r))])\n",
    "    \n",
    "    table = N * c + r\n",
    "    table = np.block([[table],[v-1]])\n",
    "    \n",
    "    # it is faster to use lil_matrix when changing the sparse structure.\n",
    "    CLUE = scs.lil_matrix((len(table.T), N**3))\n",
    "    for i in range(len(table.T)):\n",
    "        CLUE[i,table[0,i]*N + table[1,i]] = 1\n",
    "    # change back to csr_matrix.\n",
    "    CLUE = CLUE.tocsr() \n",
    "    \n",
    "    return CLUE"
   ]
  },
  {
   "cell_type": "markdown",
   "metadata": {},
   "source": [
    "``CVXOPT`` is a package used for LP. Just ``pip install cvxopt`` to install. "
   ]
  },
  {
   "cell_type": "code",
   "execution_count": null,
   "metadata": {},
   "outputs": [],
   "source": [
    "!pip install cvxopt"
   ]
  },
  {
   "cell_type": "code",
   "execution_count": null,
   "metadata": {},
   "outputs": [],
   "source": [
    "from cvxopt import solvers, matrix\n",
    "import time"
   ]
  },
  {
   "cell_type": "code",
   "execution_count": null,
   "metadata": {},
   "outputs": [],
   "source": [
    "p.size"
   ]
  },
  {
   "cell_type": "code",
   "execution_count": null,
   "metadata": {},
   "outputs": [],
   "source": [
    "np.concatenate([arr2,arr3],axis=0)"
   ]
  },
  {
   "cell_type": "code",
   "execution_count": null,
   "metadata": {},
   "outputs": [],
   "source": [
    "P = matrix(2*np.eye(2*A.shape[1]))"
   ]
  },
  {
   "cell_type": "code",
   "execution_count": null,
   "metadata": {},
   "outputs": [],
   "source": [
    "arr1 = -1*np.eye(2*A.shape[1])"
   ]
  },
  {
   "cell_type": "code",
   "execution_count": null,
   "metadata": {},
   "outputs": [],
   "source": [
    "arr2 = np.eye(2*A.shape[1])"
   ]
  },
  {
   "cell_type": "code",
   "execution_count": null,
   "metadata": {},
   "outputs": [],
   "source": [
    "arr3 =  np.block([arr1,arr2])"
   ]
  },
  {
   "cell_type": "code",
   "execution_count": null,
   "metadata": {},
   "outputs": [],
   "source": [
    "    arr2 = np.zeros(A.shape[1]*2)\n",
    "    arr3 = np.ones(A.shape[1]*2)"
   ]
  },
  {
   "cell_type": "code",
   "execution_count": null,
   "metadata": {},
   "outputs": [],
   "source": [
    "arr2.shape ,arr3.shape"
   ]
  },
  {
   "cell_type": "code",
   "execution_count": null,
   "metadata": {},
   "outputs": [],
   "source": [
    "np.concatenate((-arr1,arr1),axis=0).shape"
   ]
  },
  {
   "cell_type": "code",
   "execution_count": null,
   "metadata": {},
   "outputs": [
    {
     "name": "stdout",
     "output_type": "stream",
     "text": [
      "Aver Time:   3.41 secs. Success rate: 3 / 5 \n",
      "Aver Time:   3.46 secs. Success rate: 6 / 10 \n",
      "Aver Time:   3.40 secs. Success rate: 9 / 15 \n",
      "Aver Time:   3.39 secs. Success rate: 13 / 20 \n",
      "Aver Time:   3.44 secs. Success rate: 16 / 25 \n",
      "Aver Time:   3.43 secs. Success rate: 19 / 30 \n",
      "Aver Time:   3.44 secs. Success rate: 23 / 35 \n",
      "Aver Time:   3.44 secs. Success rate: 25 / 40 \n",
      "Aver Time:   3.43 secs. Success rate: 28 / 45 \n",
      "Aver Time:   3.43 secs. Success rate: 31 / 50 \n",
      "Aver Time:   3.44 secs. Success rate: 35 / 55 \n",
      "Aver Time:   3.44 secs. Success rate: 39 / 60 \n",
      "Aver Time:   3.44 secs. Success rate: 44 / 65 \n",
      "Aver Time:   3.45 secs. Success rate: 48 / 70 \n",
      "Aver Time:   3.45 secs. Success rate: 49 / 75 \n",
      "Aver Time:   3.46 secs. Success rate: 52 / 80 \n",
      "Aver Time:   3.45 secs. Success rate: 54 / 85 \n",
      "Aver Time:   3.45 secs. Success rate: 56 / 90 \n",
      "Aver Time:   3.45 secs. Success rate: 60 / 95 \n",
      "Aver Time:   3.45 secs. Success rate: 63 / 100 \n",
      "Aver Time:   3.45 secs. Success rate: 67 / 105 \n",
      "Aver Time:   3.44 secs. Success rate: 71 / 110 \n",
      "Aver Time:   3.44 secs. Success rate: 74 / 115 \n",
      "Aver Time:   3.43 secs. Success rate: 75 / 120 \n",
      "Aver Time:   3.43 secs. Success rate: 75 / 125 \n",
      "Aver Time:   3.42 secs. Success rate: 77 / 130 \n",
      "Aver Time:   3.42 secs. Success rate: 79 / 135 \n",
      "Aver Time:   3.41 secs. Success rate: 81 / 140 \n",
      "Aver Time:   3.41 secs. Success rate: 83 / 145 \n",
      "Aver Time:   3.41 secs. Success rate: 86 / 150 \n",
      "Aver Time:   3.40 secs. Success rate: 87 / 155 \n",
      "Aver Time:   3.39 secs. Success rate: 89 / 160 \n",
      "Aver Time:   3.39 secs. Success rate: 93 / 165 \n",
      "Aver Time:   3.40 secs. Success rate: 95 / 170 \n",
      "Aver Time:   3.39 secs. Success rate: 97 / 175 \n",
      "Aver Time:   3.39 secs. Success rate: 98 / 180 \n",
      "Aver Time:   3.39 secs. Success rate: 102 / 185 \n",
      "Aver Time:   3.38 secs. Success rate: 104 / 190 \n",
      "Aver Time:   3.38 secs. Success rate: 106 / 195 \n",
      "Aver Time:   3.38 secs. Success rate: 107 / 200 \n",
      "Aver Time:   3.38 secs. Success rate: 110 / 205 \n",
      "Aver Time:   3.38 secs. Success rate: 111 / 210 \n",
      "Aver Time:   3.37 secs. Success rate: 113 / 215 \n",
      "Aver Time:   3.37 secs. Success rate: 116 / 220 \n",
      "Aver Time:   3.37 secs. Success rate: 120 / 225 \n",
      "Aver Time:   3.37 secs. Success rate: 122 / 230 \n",
      "Aver Time:   3.37 secs. Success rate: 123 / 235 \n",
      "Aver Time:   3.37 secs. Success rate: 125 / 240 \n",
      "Aver Time:   3.37 secs. Success rate: 129 / 245 \n",
      "Aver Time:   3.36 secs. Success rate: 131 / 250 \n",
      "Aver Time:   3.36 secs. Success rate: 134 / 255 \n"
     ]
    }
   ],
   "source": [
    "from cvxopt import solvers, matrix\n",
    "import time\n",
    "solvers.options['show_progress'] = False\n",
    "\n",
    "# We test the following algoritm on small data set.\n",
    "data = pd.read_csv(\"../input/small2.csv\") \n",
    "\n",
    "corr_cnt = 0\n",
    "start = time.time()\n",
    "for i in range(len(data)):\n",
    "    quiz = data[\"quizzes\"][i]\n",
    "    solu = data[\"solutions\"][i]\n",
    "    A0 = fixed_constraints()\n",
    "    A1 = clue_constraint(quiz)\n",
    "\n",
    "    # Formulate the matrix A and vector B (B is all ones).\n",
    "    A = scs.vstack((A0,A1))\n",
    "    A = A.toarray()\n",
    "    B = np.ones(A.shape[0])\n",
    "\n",
    "\n",
    "    # Because rank defficiency. We need to extract effective rank.\n",
    "    u, s, vh = np.linalg.svd(A, full_matrices=False)\n",
    "    K = np.sum(s > 1e-12)\n",
    "    S_ = np.block([np.diag(s[:K]), np.zeros((K, A.shape[0]-K))])\n",
    "    A = S_@vh\n",
    "    B = u.T@B\n",
    "    B = B[:K]\n",
    "\n",
    "    c = matrix(np.block([ np.ones(A.shape[1]), np.ones(A.shape[1]) ]))\n",
    "    P = matrix(2*np.eye(2*A.shape[1]))\n",
    "    q = matrix(-1*np.block([ np.ones(A.shape[1]), np.ones(A.shape[1]) ]))\n",
    "\n",
    "    3hape[1], A.shape[1])), -np.eye(A.shape[1])]]))\n",
    "    arr1 = 1*np.eye(2*A.shape[1])\n",
    "    G = matrix(np.concatenate((-arr1,arr1),axis=0))\n",
    "    arr2 = np.zeros(A.shape[1]*2)\n",
    "    arr3 = np.ones(A.shape[1]*2)\n",
    "\n",
    "    h = matrix(np.concatenate([arr2,arr3],axis=0))\n",
    "    #h = matrix(np.zeros(A.shape[1]*2))\n",
    "    H = matrix(np.block([A,-A]))\n",
    "    b = matrix(B)\n",
    "\n",
    "    #sol = solvers.lp(c,G,h,H,b)\n",
    "    sol = solvers.qp(P,q,G,h,H,b)\n",
    "\n",
    "\n",
    "    # postprocessing the solution\n",
    "    X = np.array(sol['x']).T[0]\n",
    "    x = X[:A.shape[1]] - X[A.shape[1]:]\n",
    "\n",
    "    \n",
    "    \n",
    "    # map to board\n",
    "    z = np.reshape(x, (81, 9))\n",
    "    if np.linalg.norm(np.reshape(np.array([np.argmax(d)+1 for d in z]), (9,9) ) \\\n",
    "                      - np.reshape([int(c) for c in solu], (9,9)), np.inf) >0:\n",
    "        pass\n",
    "    else:\n",
    "        #print(\"CORRECT\")\n",
    "        corr_cnt += 1\n",
    "    \n",
    "    if (i+1) % 5 == 0:\n",
    "        end = time.time()\n",
    "        print(\"Aver Time: {t:6.2f} secs. Success rate: {corr} / {all} \".format(t=(end-start)/(i+1), corr=corr_cnt, all=i+1) )\n",
    "\n",
    "end = time.time()\n",
    "print(\"Aver Time: {t:6.2f} secs. Success rate: {corr} / {all} \".format(t=(end-start)/(i+1), corr=corr_cnt, all=i+1) )"
   ]
  },
  {
   "cell_type": "code",
   "execution_count": null,
   "metadata": {},
   "outputs": [],
   "source": []
  }
 ],
 "metadata": {
  "kernelspec": {
   "display_name": "Python 2",
   "language": "python",
   "name": "python2"
  },
  "language_info": {
   "codemirror_mode": {
    "name": "ipython",
    "version": 2
   },
   "file_extension": ".py",
   "mimetype": "text/x-python",
   "name": "python",
   "nbconvert_exporter": "python",
   "pygments_lexer": "ipython2",
   "version": "2.7.15"
  }
 },
 "nbformat": 4,
 "nbformat_minor": 1
}
