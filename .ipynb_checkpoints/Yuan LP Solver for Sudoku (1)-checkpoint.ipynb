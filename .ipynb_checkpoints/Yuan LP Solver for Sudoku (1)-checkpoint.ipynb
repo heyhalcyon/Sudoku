{
 "cells": [
  {
   "cell_type": "markdown",
   "metadata": {},
   "source": [
    "In this example kernel, we try to demonstrate the LP for the Sudoku game. To study the problem \n",
    "\n",
    "$$\\min_{X} \\|X\\|_{L^1} $$\n",
    "subject to equality constraint $AX = B$."
   ]
  },
  {
   "cell_type": "code",
   "execution_count": 3,
   "metadata": {},
   "outputs": [
    {
     "name": "stdout",
     "output_type": "stream",
     "text": [
      "['.DS_Store', 'large1.csv', 'large2.csv', 'small1.csv', 'small2.csv']\n"
     ]
    }
   ],
   "source": [
    "import os\n",
    "print(os.listdir(\"input\"))"
   ]
  },
  {
   "cell_type": "code",
   "execution_count": 21,
   "metadata": {},
   "outputs": [],
   "source": [
    "import numpy as np # linear algebra\n",
    "import pandas as pd # data processing, CSV file I/O (e.g. pd.read_csv)\n",
    "import scipy.sparse as scs # sparse matrix construction \n",
    "import scipy.linalg as scl # linear algebra algorithms\n",
    "import scipy.optimize as sco # for minimization use\n",
    "import matplotlib.pylab as plt # for visualization\n",
    "from collections import defaultdict\n",
    "import math\n",
    "def fixed_constraints(N=9):\n",
    "    rowC = np.zeros(N)\n",
    "    rowC[0] =1\n",
    "    rowR = np.zeros(N)\n",
    "    rowR[0] =1\n",
    "    row = scl.toeplitz(rowC, rowR)\n",
    "    ROW = np.kron(row, np.kron(np.ones((1,N)), np.eye(N)))\n",
    "    \n",
    "    colR = np.kron(np.ones((1,N)), rowC)\n",
    "    col  = scl.toeplitz(rowC, colR)\n",
    "    COL  = np.kron(col, np.eye(N))\n",
    "    \n",
    "    M = int(np.sqrt(N))\n",
    "    boxC = np.zeros(M)\n",
    "    boxC[0]=1\n",
    "    boxR = np.kron(np.ones((1, M)), boxC) \n",
    "    box = scl.toeplitz(boxC, boxR)\n",
    "    box = np.kron(np.eye(M), box)\n",
    "    BOX = np.kron(box, np.block([np.eye(N), np.eye(N) ,np.eye(N)]))\n",
    "    \n",
    "    cell = np.eye(N**2)\n",
    "    CELL = np.kron(cell, np.ones((1,N)))\n",
    "    \n",
    "    return scs.csr_matrix(np.block([[ROW],[COL],[BOX],[CELL]]))\n",
    "#print(fixed_constraints(N=9))\n",
    "\n",
    "# For the constraint from clues, we extract the nonzeros from the quiz string.\n",
    "def clue_constraint(input_quiz, N=9):\n",
    "    m = np.reshape([int(c) for c in input_quiz], (N,N))\n",
    "    #print(m)\n",
    "    r, c = np.where(m.T)\n",
    "    v = np.array([m[c[d],r[d]] for d in range(len(r))])\n",
    "    \n",
    "    table = N * c + r\n",
    "    table = np.block([[table],[v-1]])\n",
    "    #print(table)\n",
    "    # it is faster to use lil_matrix when changing the sparse structure.\n",
    "    CLUE = scs.lil_matrix((len(table.T), N**3))\n",
    "\n",
    "    for i in range(len(table.T)):\n",
    "        CLUE[i,table[0,i]*N + table[1,i]] = 1\n",
    "    # change back to csr_matrix.\n",
    "    CLUE = CLUE.tocsr() \n",
    "    \n",
    "    return CLUE\n",
    "#print(clue_constraint( '000000000000000127009002530000000000004000981080754000000000000060089003473105000', N=9))"
   ]
  },
  {
   "cell_type": "code",
   "execution_count": 22,
   "metadata": {},
   "outputs": [
    {
     "name": "stdout",
     "output_type": "stream",
     "text": [
      "[[0 0 0 0 0 0 0 0 0]\n",
      " [0 0 0 0 0 0 1 2 7]\n",
      " [0 0 9 0 0 2 5 3 0]\n",
      " [0 0 0 0 0 0 0 0 0]\n",
      " [0 0 4 0 0 0 9 8 1]\n",
      " [0 8 0 7 5 4 0 0 0]\n",
      " [0 0 0 0 0 0 0 0 0]\n",
      " [0 6 0 0 8 9 0 0 3]\n",
      " [4 7 3 1 0 5 0 6 0]]\n"
     ]
    }
   ],
   "source": [
    "def forward_checking(input_quiz , N=9):\n",
    "    m = np.reshape([int(c) for c in input_quiz], (N,N))\n",
    "    #r, c = np.where(m.T)\n",
    "    #v = np.array([m[c[d],r[d]] for d in range(len(r))])\n",
    "    \n",
    "    for i in range(N):\n",
    "        for j in range(N):\n",
    "            if m[i][j] == 0:\n",
    "                m[i][j] = 123456789\n",
    "            \n",
    "                for k in m[i]:\n",
    "                    if k < 10:\n",
    "                        s = str(m[i][j]).replace(str(k), '')\n",
    "                        m[i][j] = int(s)\n",
    "                for k in m[:,j]:\n",
    "                    if k < 10:\n",
    "                        s = str(m[i][j]).replace(str(k), '')\n",
    "                        m[i][j] = int(s)\n",
    "                dd = my_block(m) #block dict\n",
    "                ll = dd[(math.ceil(i/N), math.ceil(j/N))]\n",
    "                for k in ll:         #eliminate block\n",
    "                    if k < 10:\n",
    "                        s = str(m[i][j]).replace(str(k), '')\n",
    "                        m[i][j] = int(s)\n",
    "                        \n",
    "    for i in range(N):\n",
    "        for j in range(N):\n",
    "            if m[i][j] > 9:\n",
    "                m[i][j] = 0\n",
    "               \n",
    "    return m\n",
    "\n",
    "def my_block(mygb, N=3):\n",
    "    dd = defaultdict(list)\n",
    "    for i in range(len(mygb)):\n",
    "        for j in range(len(mygb[i])):\n",
    "            key = (math.ceil(i/N), math.ceil(j/N))\n",
    "            dd[key].append(mygb[i][j])\n",
    "    return dd\n",
    "\n",
    "print(forward_checking( '000000000000000127009002530000000000004000981080754000000000000060089003473105000', N=9))\n"
   ]
  },
  {
   "cell_type": "markdown",
   "metadata": {},
   "source": [
    "Use ``scipy.optmize`` to find the solution. We test the method on ``large1`` with random seed 42 to generate the 1000 samples."
   ]
  },
  {
   "cell_type": "code",
   "execution_count": null,
   "metadata": {},
   "outputs": [],
   "source": [
    "def norvig(input_quiz , N=9):\n",
    "    "
   ]
  },
  {
   "cell_type": "code",
   "execution_count": null,
   "metadata": {},
   "outputs": [],
   "source": [
    "import time\n",
    "\n",
    "# We test the following algoritm on small data set.\n",
    "data = pd.read_csv(\"../input/small2.csv\") \n",
    "\n",
    "corr_cnt = 0\n",
    "start = time.time()\n",
    "\n",
    "random_seed = 42\n",
    "np.random.seed(random_seed)\n",
    "\n",
    "if len(data) > 1000:\n",
    "    samples = np.random.choice(len(data), 1000)\n",
    "else:\n",
    "    samples = range(len(data))\n",
    "\n",
    "for i in range(len(samples)):\n",
    "    quiz = data[\"quizzes\"][samples[i]]\n",
    "    solu = data[\"solutions\"][samples[i]]\n",
    "    A0 = fixed_constraints()\n",
    "    A1 = clue_constraint(quiz)\n",
    "\n",
    "    # Formulate the matrix A and vector B (B is all ones).\n",
    "    A = scs.vstack((A0,A1))\n",
    "    A = A.toarray()\n",
    "    B = np.ones(A.shape[0])\n",
    "\n",
    "\n",
    "    # Because rank defficiency. We need to extract effective rank.\n",
    "    u, s, vh = np.linalg.svd(A, full_matrices=False)\n",
    "    K = np.sum(s > 1e-12)\n",
    "    S = np.block([np.diag(s[:K]), np.zeros((K, A.shape[0]-K))])\n",
    "    A = S@vh\n",
    "    B = u.T@B\n",
    "    B = B[:K]\n",
    "\n",
    "    c = np.block([ np.ones(A.shape[1]), np.ones(A.shape[1]) ])\n",
    "    G = np.block([[-np.eye(A.shape[1]), np.zeros((A.shape[1], A.shape[1]))],\\\n",
    "                         [np.zeros((A.shape[1], A.shape[1])), -np.eye(A.shape[1])]])\n",
    "    h = np.zeros(A.shape[1]*2)\n",
    "    H = np.block([A, -A])\n",
    "    b = B\n",
    "\n",
    "    ret = sco.linprog(c, G, h, H, b, method='interior-point', options={'tol':1e-6})\n",
    "    x = ret.x[:A.shape[1]] - ret.x[A.shape[1]:]\n",
    "\n",
    "    \n",
    "    z = np.reshape(x, (81, 9))\n",
    "    if np.linalg.norm(np.reshape(np.array([np.argmax(d)+1 for d in z]), (9,9) ) \\\n",
    "                      - np.reshape([int(c) for c in solu], (9,9)), np.inf) >0:\n",
    "        pass\n",
    "    else:\n",
    "        #print(\"CORRECT\")\n",
    "        corr_cnt += 1\n",
    "\n",
    "    if (i+1) % 20 == 0:\n",
    "        end = time.time()\n",
    "        print(\"Aver Time: {t:6.2f} secs. Success rate: {corr} / {all} \".format(t=(end-start)/(i+1), corr=corr_cnt, all=i+1) )\n",
    "\n",
    "end = time.time()\n",
    "print(\"Aver Time: {t:6.2f} secs. Success rate: {corr} / {all} \".format(t=(end-start)/(i+1), corr=corr_cnt, all=i+1) )"
   ]
  }
 ],
 "metadata": {
  "kernelspec": {
   "display_name": "Python 3",
   "language": "python",
   "name": "python3"
  },
  "language_info": {
   "codemirror_mode": {
    "name": "ipython",
    "version": 3
   },
   "file_extension": ".py",
   "mimetype": "text/x-python",
   "name": "python",
   "nbconvert_exporter": "python",
   "pygments_lexer": "ipython3",
   "version": "3.7.1"
  },
  "toc": {
   "base_numbering": 1,
   "nav_menu": {},
   "number_sections": false,
   "sideBar": true,
   "skip_h1_title": false,
   "title_cell": "Table of Contents",
   "title_sidebar": "Contents",
   "toc_cell": false,
   "toc_position": {},
   "toc_section_display": true,
   "toc_window_display": true
  }
 },
 "nbformat": 4,
 "nbformat_minor": 1
}
